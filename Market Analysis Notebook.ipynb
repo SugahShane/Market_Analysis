{
 "cells": [
  {
   "cell_type": "code",
   "execution_count": 24,
   "metadata": {
    "collapsed": true
   },
   "outputs": [],
   "source": [
    "import pandas as pd\n",
    "from datetime import datetime\n",
    "import os\n",
    "import glob\n",
    "\n",
    "SP500_BASE_DIRECTORY = \"C:\\\\Users\\\\Shane\\\\Dropbox\\\\PyCharm Projects\\\\Market Analysis\\\\\"\n",
    "SP500_DATA_DIRECTORY = SP500_BASE_DIRECTORY + \"data\\\\\"\n",
    "SP500_DATA_FILENAME = \"SP500.csv\"\n",
    "\n",
    "sp500_df = pd.read_csv(SP500_DATA_DIRECTORY + SP500_DATA_FILENAME)\n",
    "sp500_df['Date'] = pd.to_datetime(sp500_df.Date)\n",
    "sp500_df = sp500_df.sort_values(by=['Date'], ascending=False)\n",
    "\n",
    "DATE = datetime.now().strftime('%m-%d-%Y')\n",
    "MARKET_DATA_BASE_DIRECTORY = \"D:\\\\Users\\\\Shane\\\\SkyDrive\\\\Documents\\\\Trading\\\\Research\\\\Data\\\\\"\n",
    "MARKET_DATA_INPUT_DIRECTORY = MARKET_DATA_BASE_DIRECTORY + \"Market Analysis Data\\\\\" + DATE + \"\\\\\"\n",
    "MARKET_DATA_OUTPUT_DIRECTORY = MARKET_DATA_BASE_DIRECTORY + \"Market Analysis Data\\\\\"\n",
    "\n",
    "os.chdir(MARKET_DATA_INPUT_DIRECTORY)\n",
    "file_list = glob.glob(\"*.csv\")\n",
    "\n",
    "etf_df = pd.DataFrame()\n",
    "etf_last_day_df = pd.DataFrame()\n",
    "\n",
    "for filename in file_list:\n",
    "    df = pd.read_csv(filename)\n",
    "    df['Date'] = pd.to_datetime(df['Date'])\n",
    "    df = df.sort_values(by='Date', ascending=False)\n",
    "    last_day_df = df.head(1)\n",
    "    \n",
    "    if etf_df.empty:\n",
    "        etf_df = df.copy()\n",
    "        etf_last_day_df = last_day_df.copy()\n",
    "    else:\n",
    "        etf_df = pd.merge(etf_df, df, on='Date', how='outer')\n",
    "        etf_last_day_df = pd.merge(etf_last_day_df, last_day_df, on='Date', how='left')\n"
   ]
  },
  {
   "cell_type": "code",
   "execution_count": 25,
   "metadata": {},
   "outputs": [
    {
     "name": "stdout",
     "output_type": "stream",
     "text": [
      "        Date  AMZN_Open  AMZN_High  AMZN_Low  AMZN_Close  AMZN_Volume  \\\n0 2018-06-21     1760.0     1763.1   1717.56     1730.22      4941148   \n\n   AMZN_ATRPercentOfClose20  AMZN_SQN25  AMZN_SQN50  AMZN_SQN100  \\\n0                   1.53885    2.569287    2.070793     1.167736   \n\n       ...        XRT_SQN50  XRT_SQN100  XRT_SQN200  XRT_MACD  XRT_MACD_Avg  \\\n0      ...          1.79907    0.356219    1.079968  1.112478      1.028208   \n\n   XRT_MACD_Diff  XRT_LinReg10  XRT_LinReg30  XRT_LinReg90  XRT_LinReg270  \n0        0.08427     50.258909     50.481398     47.963504      47.676092  \n\n[1 rows x 2449 columns]\n"
     ]
    }
   ],
   "source": [
    "print(etf_last_day_df)"
   ]
  },
  {
   "cell_type": "heading",
   "metadata": {},
   "level": 1,
   "source": [
    "Market Overview"
   ]
  },
  {
   "cell_type": "heading",
   "metadata": {},
   "level": 1,
   "source": [
    "S&P 500 Data Table"
   ]
  },
  {
   "cell_type": "code",
   "execution_count": 12,
   "metadata": {},
   "outputs": [
    {
     "data": {
      "text/html": [
       "<iframe id=\"igraph\" scrolling=\"no\" style=\"border:none;\" seamless=\"seamless\" src=\"https://plot.ly/~shane.brewer/4.embed\" height=\"525px\" width=\"100%\"></iframe>"
      ],
      "text/plain": [
       "<iframe id=\"igraph\" scrolling=\"no\" style=\"border:none;\" seamless=\"seamless\" src=\"https://plot.ly/~shane.brewer/4.embed\" height=\"525px\" width=\"100%\"></iframe>"
      ]
     },
     "execution_count": 12,
     "metadata": {},
     "output_type": "execute_result"
    }
   ],
   "source": [
    "import plotly.plotly as py\n",
    "import plotly.graph_objs as go\n",
    "\n",
    "plotly.tools.set_credentials_file(username='shane.brewer', api_key='Utd2w2H5xUb4MfnMmlNZ')\n",
    "plotly.tools.set_config_file(world_readable=True, sharing='public')\n",
    "\n",
    "trace = go.Table(\n",
    "    header=dict(values=list(df.columns),\n",
    "                fill=dict(color='C2D4FF'),\n",
    "                align=['left'] * 5),\n",
    "    cells=dict(values=[sp500_df.Date,\n",
    "                       sp500_df.SP500_Open,\n",
    "                       sp500_df.SP500_High,\n",
    "                       sp500_df.SP500_Low,\n",
    "                       sp500_df.SP500_Close,\n",
    "                       sp500_df.SP500_Volume,\n",
    "                       sp500_df.SP500_ATRPercentOfClose20,\n",
    "                       sp500_df.SP500_SQN25,\n",
    "                       sp500_df.SP500_SQN50,\n",
    "                       sp500_df.SP500_SQN100,\n",
    "                       sp500_df.SP500_SQN200,\n",
    "                       sp500_df.SP500_MACD,\n",
    "                       sp500_df.SP500_MACD_Avg,\n",
    "                       sp500_df.SP500_MACD_Diff,\n",
    "                       sp500_df.SP500_LinReg10,\n",
    "                       sp500_df.SP500_LinReg30,\n",
    "                       sp500_df.SP500_LinReg90,\n",
    "                       sp500_df.SP500_LinReg270],\n",
    "                fill=dict(color='#F5F8FF'),\n",
    "                align=['left'] * 5))\n",
    "\n",
    "tableData = [trace]\n",
    "py.iplot(tableData, filename='Bear_Market_Research_Table')\n"
   ]
  },
  {
   "cell_type": "heading",
   "metadata": {},
   "level": 1,
   "source": [
    "World Markets"
   ]
  },
  {
   "cell_type": "code",
   "execution_count": null,
   "metadata": {},
   "outputs": [],
   "source": [
    "import plotly.plotly as py\n",
    "import plotly.graph_objs as go\n",
    "\n",
    "plotly.tools.set_credentials_file(username='shane.brewer', api_key='Utd2w2H5xUb4MfnMmlNZ')\n",
    "plotly.tools.set_config_file(world_readable=True, sharing='public')\n",
    "\n",
    "trace = go.Table(\n",
    "    header=dict(values=list(df.columns),\n",
    "                fill=dict(color='C2D4FF'),\n",
    "                align=['left'] * 5),\n",
    "    cells=dict(values=[df.Date,\n",
    "                       df.SP500_Open,\n",
    "                       df.SP500_High,\n",
    "                       df.SP500_Low,\n",
    "                       df.SP500_Close,\n",
    "                       df.SP500_Volume,\n",
    "                       df.SP500_ATRPercentOfClose20,\n",
    "                       df.SP500_SQN25,\n",
    "                       df.SP500_SQN50,\n",
    "                       df.SP500_SQN100,\n",
    "                       df.SP500_SQN200,\n",
    "                       df.SP500_MACD,\n",
    "                       df.SP500_MACD_Avg,\n",
    "                       df.SP500_MACD_Diff,\n",
    "                       df.SP500_LinReg10,\n",
    "                       df.SP500_LinReg30,\n",
    "                       df.SP500_LinReg90,\n",
    "                       df.SP500_LinReg270],\n",
    "                fill=dict(color='#F5F8FF'),\n",
    "                align=['left'] * 5))\n",
    "\n",
    "tableData = [trace]\n",
    "py.iplot(tableData, filename='Bear_Market_Research_Table')\n"
   ]
  }
 ],
 "metadata": {
  "kernelspec": {
   "display_name": "Python 2",
   "language": "python",
   "name": "python2"
  },
  "language_info": {
   "codemirror_mode": {
    "name": "ipython",
    "version": 2
   },
   "file_extension": ".py",
   "mimetype": "text/x-python",
   "name": "python",
   "nbconvert_exporter": "python",
   "pygments_lexer": "ipython2",
   "version": "2.7.6"
  }
 },
 "nbformat": 4,
 "nbformat_minor": 0
}
